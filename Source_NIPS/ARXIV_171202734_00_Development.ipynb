{
 "cells": [
  {
   "cell_type": "code",
   "execution_count": 1,
   "metadata": {},
   "outputs": [],
   "source": [
    "from ARXIV_171202734.chemical_builder import ChemicalBuilder\n",
    "from ARXIV_171202734.chemical_compound import ChemicalCompound\n",
    "\n",
    "%load_ext autoreload\n",
    "%autoreload 2"
   ]
  },
  {
   "cell_type": "code",
   "execution_count": 2,
   "metadata": {},
   "outputs": [],
   "source": [
    "chemical_builder = ChemicalBuilder()\n",
    "caffeine_compound = ChemicalCompound()"
   ]
  },
  {
   "cell_type": "code",
   "execution_count": 3,
   "metadata": {},
   "outputs": [
    {
     "data": {
      "text/html": [
       "<table> \r\n",
       " <tr> <th colspan=\"2\">CHEMICAL COMPOUND</th> </tr> \r\n",
       " <tr> <td>--id:</td> <td>-42</td> </tr> \r\n",
       "<tr> <td>--canonical_smiles:</td> <td>CN1C=NC2=C1C(=O)N(C(=O)N2C)C</td> </tr> \r\n",
       "<tr> <td>--atom_count:</td> <td>24</td> </tr> \r\n",
       "<tr> <td>--explicit_atom_count:</td> <td>14</td> </tr> \r\n",
       "<tr> <td>--bond_count:</td> <td>25</td> </tr> \r\n",
       "<tr> <td>--heavy_bond_count:</td> <td>15</td> </tr> \r\n",
       "<tr align=\"right\"> <td>--flat_depiction:</td> <td><img src=\"data:image/png;base64,iVBORw0KGgoAAAANSUhEUgAAAFAAAABQCAIAAAABc2X6AAACS0lEQVR4nO2a3bKFIAiF9cx+/1fmXGiOmRUgKhrrqpp+/AQVMA8A7kv6m92A0TLg3WXAu8uAd5cB7y4D3l0GvLsMuE3ee9kXisss3CYAUG5ks7CAVNeM5IEBnGanVu3SecdJdWIXYMFCqLizqLaw6zBAtANf1civEbhAKowcTtnY6oC9r0wBxRUAvqv3AuZNsN77nO16nNsWwHnvqYHdj3Q3SYWtzg2LJ2lnK7T7daMrYbtoZ3Cxm7ALQ0fg4HWpJecmnTgdArV4syNyJk0ewwDA3r7kJSp9gV+nluTJvBwrPEjqsu4W1rb9LF7xiAd3k20hifyZ1qOSwNUlFCkeOeOL97P01Vi1hSVbV9R5b1U3wHnz03FtYeGtK6f30Cee7FnyI2iXDjHOxetCQxf6MwYdeFwcu3DpdrWYGi96pHU0qHDpVXQDnEcMj13OiGarLxlg26B7C88Yljn54TvnmfJIHq5TKlIyyQMANC5LuXkxmRP7cx2zJYbwjl2kYniJRVrt1bYxw1gytBw86nldrKWmxTPvTJduEZW2WutCaj6wyNDFu/dkYMGJCsksnA9Xj4cpFG6f7xFehx9Ls/GaEwpIq3qNUoWBH0uz8ZrrnHI8d+K0MTwrhZ7zB0ByvPHZ5eQN8fFWFgCmlmbjDem+sUZuBV6lWJnUBFzsbtKUbDvWyHxgyVV0oJMwgWVoZwwGJvBChehC87OlwTLg3aWjaokr+otIAXBLWZ2uz7m0Ae8uBWMYvVMpIgXAboVYel0Z8O4y4N1lwLvrc8D/y6s2iKZmigUAAAAASUVORK5CYII=\" /></td> </tr> \r\n",
       " </table>"
      ],
      "text/plain": [
       "<ARXIV_171202734.chemical_compound.ChemicalCompound at 0x205d5a914a8>"
      ]
     },
     "execution_count": 3,
     "metadata": {},
     "output_type": "execute_result"
    }
   ],
   "source": [
    "caffeine_compound.id = -42\n",
    "caffeine_compound.canonical_smiles = 'CN1C=NC2=C1C(=O)N(C(=O)N2C)C'\n",
    "\n",
    "chemical_builder.build_compound_descriptors(caffeine_compound)\n",
    "\n",
    "caffeine_compound"
   ]
  }
 ],
 "metadata": {
  "kernelspec": {
   "display_name": "Python 3",
   "language": "python",
   "name": "python3"
  },
  "language_info": {
   "codemirror_mode": {
    "name": "ipython",
    "version": 3
   },
   "file_extension": ".py",
   "mimetype": "text/x-python",
   "name": "python",
   "nbconvert_exporter": "python",
   "pygments_lexer": "ipython3",
   "version": "3.6.3"
  }
 },
 "nbformat": 4,
 "nbformat_minor": 2
}
